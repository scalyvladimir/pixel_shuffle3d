{
 "cells": [
  {
   "cell_type": "code",
   "execution_count": 15,
   "metadata": {},
   "outputs": [
    {
     "name": "stdout",
     "output_type": "stream",
     "text": [
      "torch.Size([1, 27, 4, 4, 4])\n"
     ]
    }
   ],
   "source": [
    "from pixel_shuffle3d import PixelUnshuffle3d\n",
    "import torch\n",
    "\n",
    "pixel_unshuffle = PixelUnshuffle3d(3)\n",
    "input = torch.randn(1, 1, 12, 12, 12)\n",
    "output = pixel_unshuffle(input)\n",
    "print(output.size())"
   ]
  },
  {
   "cell_type": "code",
   "execution_count": 17,
   "metadata": {},
   "outputs": [
    {
     "name": "stdout",
     "output_type": "stream",
     "text": [
      "torch.Size([1, 1, 12, 12, 12])\n"
     ]
    }
   ],
   "source": [
    "from pixel_shuffle3d import PixelShuffle3d\n",
    "import torch\n",
    "\n",
    "pixel_shuffle = PixelShuffle3d(3)\n",
    "input = torch.randn(1, 27, 4, 4, 4)\n",
    "output = pixel_shuffle(input)\n",
    "print(output.size())"
   ]
  }
 ],
 "metadata": {
  "kernelspec": {
   "display_name": "Python 3",
   "language": "python",
   "name": "python3"
  },
  "language_info": {
   "codemirror_mode": {
    "name": "ipython",
    "version": 3
   },
   "file_extension": ".py",
   "mimetype": "text/x-python",
   "name": "python",
   "nbconvert_exporter": "python",
   "pygments_lexer": "ipython3",
   "version": "3.9.6"
  }
 },
 "nbformat": 4,
 "nbformat_minor": 2
}
